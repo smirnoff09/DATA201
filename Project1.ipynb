{
  "nbformat": 4,
  "nbformat_minor": 0,
  "metadata": {
    "colab": {
      "provenance": [],
      "collapsed_sections": []
    },
    "kernelspec": {
      "name": "python3",
      "display_name": "Python 3"
    },
    "language_info": {
      "name": "python"
    }
  },
  "cells": [
    {
      "cell_type": "markdown",
      "source": [
        "**By:**\n",
        "\n",
        "    Nathaniel Jackson\n",
        "\n",
        "    Nia Pillow\n",
        "\n",
        "    Natalie Smirnoff\n",
        "\n",
        "    Daniel Lachaud\n",
        "\n",
        "    Loann Daeninckx"
      ],
      "metadata": {
        "id": "yvgnlWHaeB1K"
      }
    },
    {
      "cell_type": "markdown",
      "source": [
        "Federal employee salaries are public information under open government law.  In addition, to bring greater transparency to government spending and combat historical pay gaps, many states have enacted pay transparency laws of varying degrees - Maryland is among these states.  As a result, Montgomery County, MD publishes annually, salary information including gross pay and overtime for all active, permanent employees.\n",
        "\n",
        "The following dataset is from Data Montgomery HR department and was last updated in August 2021. The dataset is comprised of 5 categorical and 3 quantitative variables and a total of 9958 observations. Below is a list of all 8 variables and what they represent:\n",
        "\n",
        "**Department** – C- Department code for the department to which the employee is assigned.\n",
        "\n",
        "**Department Name** - C - Name of the County Department to which the employee is assigned.\n",
        "\n",
        "**Division**\t - C - Name of the division within the County department to which the employee is assigned.\n",
        "\n",
        "**Gender**\t - C - Gender\n",
        "\n",
        "**Base Salary** - Q - Annual base salary for the employee at the end of the calendar year. NOTE: This is the projected salary based on employee status and hours the employee is scheduled to work.\n",
        "\n",
        "**2020 Overtime Pay** – Q - Overtime pay the employee received for hours worked beyond the employee’s normally scheduled workday or workweek. Encompasses all forms of overtime, including pay differential, lunch, and retroactive overtime. Also includes holiday premium and emergency pay.\n",
        "\n",
        "**2020 Longevity Pay** – Q - Longevity pay the employee received for the length of service in County employment at the end of the calendar year. NOTE: Longevity eligibility criteria are based on the Personnel Regulations and the Collective Bargaining Agreement.\n",
        "\n",
        "**Grade** -C- Assigned grade for the employee at the end of the calendar year.\n",
        "\n"
      ],
      "metadata": {
        "id": "V6MOh-3Ww-uI"
      }
    },
    {
      "cell_type": "markdown",
      "source": [
        "**Questions of interest**\n",
        "\n",
        "We are interested in the following questions:\n",
        "\n",
        "1 - Longevity pay based on department?\n",
        "\n",
        "2 - Overtime pay based on department? Was is affected by the pandemic?\n",
        "\n",
        "3 - Which department is paying out the most base pay and overtime pay?\n",
        "\n",
        "4 - Who has the highest base pay per grade? \n",
        "\n",
        "5 - Which department employs the most people?\n",
        "\n",
        "6 - How do departments pay based on gender?\n",
        "\n",
        "We chose to focus primarily on the salaries based on gender and explored the data further based on that.\n"
      ],
      "metadata": {
        "id": "k2CQrWfx-NjI"
      }
    },
    {
      "cell_type": "markdown",
      "source": [
        "**Load Necessary Python Libraries**"
      ],
      "metadata": {
        "id": "uPBXpAKR8Hlu"
      }
    },
    {
      "cell_type": "code",
      "execution_count": null,
      "metadata": {
        "id": "0oIOyHkUw87U"
      },
      "outputs": [],
      "source": [
        "import matplotlib.pyplot as plt\n",
        "import numpy as np\n",
        "import pandas as pd\n",
        "import matplotlib as mpl\n",
        "import matplotlib.pyplot as plt\n",
        "import seaborn as sns\n",
        "from scipy.stats import bootstrap"
      ]
    },
    {
      "cell_type": "markdown",
      "source": [
        "**Read in Dataset**"
      ],
      "metadata": {
        "id": "JiFLpJGV9-uq"
      }
    },
    {
      "cell_type": "code",
      "source": [
        "df = pd.read_csv(\"Employee_Salaries_2020.csv\")\n",
        "# Quick glimpse of dataset\n",
        "df.head()\n"
      ],
      "metadata": {
        "id": "couLWu5H8UoE",
        "colab": {
          "base_uri": "https://localhost:8080/",
          "height": 206
        },
        "outputId": "275a012d-f673-4c30-873f-616d89fd83ba"
      },
      "execution_count": null,
      "outputs": [
        {
          "output_type": "execute_result",
          "data": {
            "text/plain": [
              "  Department            Department Name                  Division Gender  \\\n",
              "0        ABS  Alcohol Beverage Services  Wholesale Administration      F   \n",
              "1        ABS  Alcohol Beverage Services   Administrative Services      F   \n",
              "2        ABS  Alcohol Beverage Services            Administration      M   \n",
              "3        ABS  Alcohol Beverage Services      Wholesale Operations      F   \n",
              "4        ABS  Alcohol Beverage Services            Administration      F   \n",
              "\n",
              "   Base Salary  2020 Overtime Pay  2020 Longevity Pay Grade  \n",
              "0      78902.0             199.17                0.00    18  \n",
              "1      35926.0               0.00             4038.91    16  \n",
              "2     167345.0               0.00                0.00    M2  \n",
              "3      90848.0               0.00             5717.68    21  \n",
              "4      78902.0             205.16             2460.24    18  "
            ],
            "text/html": [
              "\n",
              "  <div id=\"df-61315df8-c88e-4ab9-81e4-72463a30c33e\">\n",
              "    <div class=\"colab-df-container\">\n",
              "      <div>\n",
              "<style scoped>\n",
              "    .dataframe tbody tr th:only-of-type {\n",
              "        vertical-align: middle;\n",
              "    }\n",
              "\n",
              "    .dataframe tbody tr th {\n",
              "        vertical-align: top;\n",
              "    }\n",
              "\n",
              "    .dataframe thead th {\n",
              "        text-align: right;\n",
              "    }\n",
              "</style>\n",
              "<table border=\"1\" class=\"dataframe\">\n",
              "  <thead>\n",
              "    <tr style=\"text-align: right;\">\n",
              "      <th></th>\n",
              "      <th>Department</th>\n",
              "      <th>Department Name</th>\n",
              "      <th>Division</th>\n",
              "      <th>Gender</th>\n",
              "      <th>Base Salary</th>\n",
              "      <th>2020 Overtime Pay</th>\n",
              "      <th>2020 Longevity Pay</th>\n",
              "      <th>Grade</th>\n",
              "    </tr>\n",
              "  </thead>\n",
              "  <tbody>\n",
              "    <tr>\n",
              "      <th>0</th>\n",
              "      <td>ABS</td>\n",
              "      <td>Alcohol Beverage Services</td>\n",
              "      <td>Wholesale Administration</td>\n",
              "      <td>F</td>\n",
              "      <td>78902.0</td>\n",
              "      <td>199.17</td>\n",
              "      <td>0.00</td>\n",
              "      <td>18</td>\n",
              "    </tr>\n",
              "    <tr>\n",
              "      <th>1</th>\n",
              "      <td>ABS</td>\n",
              "      <td>Alcohol Beverage Services</td>\n",
              "      <td>Administrative Services</td>\n",
              "      <td>F</td>\n",
              "      <td>35926.0</td>\n",
              "      <td>0.00</td>\n",
              "      <td>4038.91</td>\n",
              "      <td>16</td>\n",
              "    </tr>\n",
              "    <tr>\n",
              "      <th>2</th>\n",
              "      <td>ABS</td>\n",
              "      <td>Alcohol Beverage Services</td>\n",
              "      <td>Administration</td>\n",
              "      <td>M</td>\n",
              "      <td>167345.0</td>\n",
              "      <td>0.00</td>\n",
              "      <td>0.00</td>\n",
              "      <td>M2</td>\n",
              "    </tr>\n",
              "    <tr>\n",
              "      <th>3</th>\n",
              "      <td>ABS</td>\n",
              "      <td>Alcohol Beverage Services</td>\n",
              "      <td>Wholesale Operations</td>\n",
              "      <td>F</td>\n",
              "      <td>90848.0</td>\n",
              "      <td>0.00</td>\n",
              "      <td>5717.68</td>\n",
              "      <td>21</td>\n",
              "    </tr>\n",
              "    <tr>\n",
              "      <th>4</th>\n",
              "      <td>ABS</td>\n",
              "      <td>Alcohol Beverage Services</td>\n",
              "      <td>Administration</td>\n",
              "      <td>F</td>\n",
              "      <td>78902.0</td>\n",
              "      <td>205.16</td>\n",
              "      <td>2460.24</td>\n",
              "      <td>18</td>\n",
              "    </tr>\n",
              "  </tbody>\n",
              "</table>\n",
              "</div>\n",
              "      <button class=\"colab-df-convert\" onclick=\"convertToInteractive('df-61315df8-c88e-4ab9-81e4-72463a30c33e')\"\n",
              "              title=\"Convert this dataframe to an interactive table.\"\n",
              "              style=\"display:none;\">\n",
              "        \n",
              "  <svg xmlns=\"http://www.w3.org/2000/svg\" height=\"24px\"viewBox=\"0 0 24 24\"\n",
              "       width=\"24px\">\n",
              "    <path d=\"M0 0h24v24H0V0z\" fill=\"none\"/>\n",
              "    <path d=\"M18.56 5.44l.94 2.06.94-2.06 2.06-.94-2.06-.94-.94-2.06-.94 2.06-2.06.94zm-11 1L8.5 8.5l.94-2.06 2.06-.94-2.06-.94L8.5 2.5l-.94 2.06-2.06.94zm10 10l.94 2.06.94-2.06 2.06-.94-2.06-.94-.94-2.06-.94 2.06-2.06.94z\"/><path d=\"M17.41 7.96l-1.37-1.37c-.4-.4-.92-.59-1.43-.59-.52 0-1.04.2-1.43.59L10.3 9.45l-7.72 7.72c-.78.78-.78 2.05 0 2.83L4 21.41c.39.39.9.59 1.41.59.51 0 1.02-.2 1.41-.59l7.78-7.78 2.81-2.81c.8-.78.8-2.07 0-2.86zM5.41 20L4 18.59l7.72-7.72 1.47 1.35L5.41 20z\"/>\n",
              "  </svg>\n",
              "      </button>\n",
              "      \n",
              "  <style>\n",
              "    .colab-df-container {\n",
              "      display:flex;\n",
              "      flex-wrap:wrap;\n",
              "      gap: 12px;\n",
              "    }\n",
              "\n",
              "    .colab-df-convert {\n",
              "      background-color: #E8F0FE;\n",
              "      border: none;\n",
              "      border-radius: 50%;\n",
              "      cursor: pointer;\n",
              "      display: none;\n",
              "      fill: #1967D2;\n",
              "      height: 32px;\n",
              "      padding: 0 0 0 0;\n",
              "      width: 32px;\n",
              "    }\n",
              "\n",
              "    .colab-df-convert:hover {\n",
              "      background-color: #E2EBFA;\n",
              "      box-shadow: 0px 1px 2px rgba(60, 64, 67, 0.3), 0px 1px 3px 1px rgba(60, 64, 67, 0.15);\n",
              "      fill: #174EA6;\n",
              "    }\n",
              "\n",
              "    [theme=dark] .colab-df-convert {\n",
              "      background-color: #3B4455;\n",
              "      fill: #D2E3FC;\n",
              "    }\n",
              "\n",
              "    [theme=dark] .colab-df-convert:hover {\n",
              "      background-color: #434B5C;\n",
              "      box-shadow: 0px 1px 3px 1px rgba(0, 0, 0, 0.15);\n",
              "      filter: drop-shadow(0px 1px 2px rgba(0, 0, 0, 0.3));\n",
              "      fill: #FFFFFF;\n",
              "    }\n",
              "  </style>\n",
              "\n",
              "      <script>\n",
              "        const buttonEl =\n",
              "          document.querySelector('#df-61315df8-c88e-4ab9-81e4-72463a30c33e button.colab-df-convert');\n",
              "        buttonEl.style.display =\n",
              "          google.colab.kernel.accessAllowed ? 'block' : 'none';\n",
              "\n",
              "        async function convertToInteractive(key) {\n",
              "          const element = document.querySelector('#df-61315df8-c88e-4ab9-81e4-72463a30c33e');\n",
              "          const dataTable =\n",
              "            await google.colab.kernel.invokeFunction('convertToInteractive',\n",
              "                                                     [key], {});\n",
              "          if (!dataTable) return;\n",
              "\n",
              "          const docLinkHtml = 'Like what you see? Visit the ' +\n",
              "            '<a target=\"_blank\" href=https://colab.research.google.com/notebooks/data_table.ipynb>data table notebook</a>'\n",
              "            + ' to learn more about interactive tables.';\n",
              "          element.innerHTML = '';\n",
              "          dataTable['output_type'] = 'display_data';\n",
              "          await google.colab.output.renderOutput(dataTable, element);\n",
              "          const docLink = document.createElement('div');\n",
              "          docLink.innerHTML = docLinkHtml;\n",
              "          element.appendChild(docLink);\n",
              "        }\n",
              "      </script>\n",
              "    </div>\n",
              "  </div>\n",
              "  "
            ]
          },
          "metadata": {},
          "execution_count": 2
        }
      ]
    },
    {
      "cell_type": "markdown",
      "source": [
        "**Are there any null values?**"
      ],
      "metadata": {
        "id": "0g4ZkKkQpXka"
      }
    },
    {
      "cell_type": "code",
      "metadata": {
        "id": "ueV7NWg7k91F",
        "colab": {
          "base_uri": "https://localhost:8080/"
        },
        "outputId": "f66d555d-6f14-4781-f78f-33c11ee0e350"
      },
      "source": [
        "# How many Null values does each column have?\n",
        "df.isnull().sum()"
      ],
      "execution_count": null,
      "outputs": [
        {
          "output_type": "execute_result",
          "data": {
            "text/plain": [
              "Department            0\n",
              "Department Name       0\n",
              "Division              0\n",
              "Gender                0\n",
              "Base Salary           0\n",
              "2020 Overtime Pay     0\n",
              "2020 Longevity Pay    0\n",
              "Grade                 0\n",
              "dtype: int64"
            ]
          },
          "metadata": {},
          "execution_count": 3
        }
      ]
    },
    {
      "cell_type": "markdown",
      "source": [
        "**Removing Useless or Redundant Columns**\n",
        "\n",
        "\n",
        "\n"
      ],
      "metadata": {
        "id": "Jax9iaMahYll"
      }
    },
    {
      "cell_type": "code",
      "source": [
        "# We are not interested in the division column. For simplicity we are removing it.\n",
        "# We are also dropping the abreviation codes for the departments \n",
        "# We will also shuffle the dataset.\n",
        "df = df[['Department Name', 'Gender', 'Base Salary', '2020 Overtime Pay', '2020 Longevity Pay']]\n",
        "df = df.sample(frac=1).reset_index(drop=True)\n",
        "df.head()"
      ],
      "metadata": {
        "colab": {
          "base_uri": "https://localhost:8080/",
          "height": 206
        },
        "id": "9CC3E6KmiiTV",
        "outputId": "83cbeba1-6bcf-4455-ddcc-a67b2ccde935"
      },
      "execution_count": null,
      "outputs": [
        {
          "output_type": "execute_result",
          "data": {
            "text/plain": [
              "                           Department Name Gender  Base Salary  \\\n",
              "0             Department of Transportation      M     47414.07   \n",
              "1  Department of Health and Human Services      F     67726.73   \n",
              "2             Department of Transportation      M     49848.50   \n",
              "3             Office of Public Information      F     51228.41   \n",
              "4                Alcohol Beverage Services      M     34316.00   \n",
              "\n",
              "   2020 Overtime Pay  2020 Longevity Pay  \n",
              "0            5327.01                 0.0  \n",
              "1               0.00                 0.0  \n",
              "2             743.36                 0.0  \n",
              "3               0.00                 0.0  \n",
              "4             389.36                 0.0  "
            ],
            "text/html": [
              "\n",
              "  <div id=\"df-d60c3826-9cc8-47a5-ae7c-b9abf96b868e\">\n",
              "    <div class=\"colab-df-container\">\n",
              "      <div>\n",
              "<style scoped>\n",
              "    .dataframe tbody tr th:only-of-type {\n",
              "        vertical-align: middle;\n",
              "    }\n",
              "\n",
              "    .dataframe tbody tr th {\n",
              "        vertical-align: top;\n",
              "    }\n",
              "\n",
              "    .dataframe thead th {\n",
              "        text-align: right;\n",
              "    }\n",
              "</style>\n",
              "<table border=\"1\" class=\"dataframe\">\n",
              "  <thead>\n",
              "    <tr style=\"text-align: right;\">\n",
              "      <th></th>\n",
              "      <th>Department Name</th>\n",
              "      <th>Gender</th>\n",
              "      <th>Base Salary</th>\n",
              "      <th>2020 Overtime Pay</th>\n",
              "      <th>2020 Longevity Pay</th>\n",
              "    </tr>\n",
              "  </thead>\n",
              "  <tbody>\n",
              "    <tr>\n",
              "      <th>0</th>\n",
              "      <td>Department of Transportation</td>\n",
              "      <td>M</td>\n",
              "      <td>47414.07</td>\n",
              "      <td>5327.01</td>\n",
              "      <td>0.0</td>\n",
              "    </tr>\n",
              "    <tr>\n",
              "      <th>1</th>\n",
              "      <td>Department of Health and Human Services</td>\n",
              "      <td>F</td>\n",
              "      <td>67726.73</td>\n",
              "      <td>0.00</td>\n",
              "      <td>0.0</td>\n",
              "    </tr>\n",
              "    <tr>\n",
              "      <th>2</th>\n",
              "      <td>Department of Transportation</td>\n",
              "      <td>M</td>\n",
              "      <td>49848.50</td>\n",
              "      <td>743.36</td>\n",
              "      <td>0.0</td>\n",
              "    </tr>\n",
              "    <tr>\n",
              "      <th>3</th>\n",
              "      <td>Office of Public Information</td>\n",
              "      <td>F</td>\n",
              "      <td>51228.41</td>\n",
              "      <td>0.00</td>\n",
              "      <td>0.0</td>\n",
              "    </tr>\n",
              "    <tr>\n",
              "      <th>4</th>\n",
              "      <td>Alcohol Beverage Services</td>\n",
              "      <td>M</td>\n",
              "      <td>34316.00</td>\n",
              "      <td>389.36</td>\n",
              "      <td>0.0</td>\n",
              "    </tr>\n",
              "  </tbody>\n",
              "</table>\n",
              "</div>\n",
              "      <button class=\"colab-df-convert\" onclick=\"convertToInteractive('df-d60c3826-9cc8-47a5-ae7c-b9abf96b868e')\"\n",
              "              title=\"Convert this dataframe to an interactive table.\"\n",
              "              style=\"display:none;\">\n",
              "        \n",
              "  <svg xmlns=\"http://www.w3.org/2000/svg\" height=\"24px\"viewBox=\"0 0 24 24\"\n",
              "       width=\"24px\">\n",
              "    <path d=\"M0 0h24v24H0V0z\" fill=\"none\"/>\n",
              "    <path d=\"M18.56 5.44l.94 2.06.94-2.06 2.06-.94-2.06-.94-.94-2.06-.94 2.06-2.06.94zm-11 1L8.5 8.5l.94-2.06 2.06-.94-2.06-.94L8.5 2.5l-.94 2.06-2.06.94zm10 10l.94 2.06.94-2.06 2.06-.94-2.06-.94-.94-2.06-.94 2.06-2.06.94z\"/><path d=\"M17.41 7.96l-1.37-1.37c-.4-.4-.92-.59-1.43-.59-.52 0-1.04.2-1.43.59L10.3 9.45l-7.72 7.72c-.78.78-.78 2.05 0 2.83L4 21.41c.39.39.9.59 1.41.59.51 0 1.02-.2 1.41-.59l7.78-7.78 2.81-2.81c.8-.78.8-2.07 0-2.86zM5.41 20L4 18.59l7.72-7.72 1.47 1.35L5.41 20z\"/>\n",
              "  </svg>\n",
              "      </button>\n",
              "      \n",
              "  <style>\n",
              "    .colab-df-container {\n",
              "      display:flex;\n",
              "      flex-wrap:wrap;\n",
              "      gap: 12px;\n",
              "    }\n",
              "\n",
              "    .colab-df-convert {\n",
              "      background-color: #E8F0FE;\n",
              "      border: none;\n",
              "      border-radius: 50%;\n",
              "      cursor: pointer;\n",
              "      display: none;\n",
              "      fill: #1967D2;\n",
              "      height: 32px;\n",
              "      padding: 0 0 0 0;\n",
              "      width: 32px;\n",
              "    }\n",
              "\n",
              "    .colab-df-convert:hover {\n",
              "      background-color: #E2EBFA;\n",
              "      box-shadow: 0px 1px 2px rgba(60, 64, 67, 0.3), 0px 1px 3px 1px rgba(60, 64, 67, 0.15);\n",
              "      fill: #174EA6;\n",
              "    }\n",
              "\n",
              "    [theme=dark] .colab-df-convert {\n",
              "      background-color: #3B4455;\n",
              "      fill: #D2E3FC;\n",
              "    }\n",
              "\n",
              "    [theme=dark] .colab-df-convert:hover {\n",
              "      background-color: #434B5C;\n",
              "      box-shadow: 0px 1px 3px 1px rgba(0, 0, 0, 0.15);\n",
              "      filter: drop-shadow(0px 1px 2px rgba(0, 0, 0, 0.3));\n",
              "      fill: #FFFFFF;\n",
              "    }\n",
              "  </style>\n",
              "\n",
              "      <script>\n",
              "        const buttonEl =\n",
              "          document.querySelector('#df-d60c3826-9cc8-47a5-ae7c-b9abf96b868e button.colab-df-convert');\n",
              "        buttonEl.style.display =\n",
              "          google.colab.kernel.accessAllowed ? 'block' : 'none';\n",
              "\n",
              "        async function convertToInteractive(key) {\n",
              "          const element = document.querySelector('#df-d60c3826-9cc8-47a5-ae7c-b9abf96b868e');\n",
              "          const dataTable =\n",
              "            await google.colab.kernel.invokeFunction('convertToInteractive',\n",
              "                                                     [key], {});\n",
              "          if (!dataTable) return;\n",
              "\n",
              "          const docLinkHtml = 'Like what you see? Visit the ' +\n",
              "            '<a target=\"_blank\" href=https://colab.research.google.com/notebooks/data_table.ipynb>data table notebook</a>'\n",
              "            + ' to learn more about interactive tables.';\n",
              "          element.innerHTML = '';\n",
              "          dataTable['output_type'] = 'display_data';\n",
              "          await google.colab.output.renderOutput(dataTable, element);\n",
              "          const docLink = document.createElement('div');\n",
              "          docLink.innerHTML = docLinkHtml;\n",
              "          element.appendChild(docLink);\n",
              "        }\n",
              "      </script>\n",
              "    </div>\n",
              "  </div>\n",
              "  "
            ]
          },
          "metadata": {},
          "execution_count": 4
        }
      ]
    },
    {
      "cell_type": "markdown",
      "source": [
        "**Display a table of Statistics, Data Type and Shape**"
      ],
      "metadata": {
        "id": "lddSDsF-g9fP"
      }
    },
    {
      "cell_type": "code",
      "source": [
        "# Display a table of statistics\n",
        "df.describe(include='all')\n",
        "\n"
      ],
      "metadata": {
        "colab": {
          "base_uri": "https://localhost:8080/",
          "height": 394
        },
        "id": "LA0ZOVp8eZa1",
        "outputId": "ab6d9cd7-e00b-4cd1-b464-8a9e6fe8979a"
      },
      "execution_count": null,
      "outputs": [
        {
          "output_type": "execute_result",
          "data": {
            "text/plain": [
              "             Department Name Gender    Base Salary  2020 Overtime Pay  \\\n",
              "count                   9958   9958    9958.000000        9958.000000   \n",
              "unique                    40      2            NaN                NaN   \n",
              "top     Department of Police      M            NaN                NaN   \n",
              "freq                    1940   5867            NaN                NaN   \n",
              "mean                     NaN    NaN   78771.464060        5182.163123   \n",
              "std                      NaN    NaN   30153.168916       11062.665975   \n",
              "min                      NaN    NaN   11147.240000           0.000000   \n",
              "25%                      NaN    NaN   56994.082500           0.000000   \n",
              "50%                      NaN    NaN   75290.000000         414.995000   \n",
              "75%                      NaN    NaN   94668.000000        5394.387500   \n",
              "max                      NaN    NaN  280000.000000      141998.220000   \n",
              "\n",
              "        2020 Longevity Pay  \n",
              "count          9958.000000  \n",
              "unique                 NaN  \n",
              "top                    NaN  \n",
              "freq                   NaN  \n",
              "mean            923.572259  \n",
              "std            2043.593190  \n",
              "min               0.000000  \n",
              "25%               0.000000  \n",
              "50%               0.000000  \n",
              "75%               0.000000  \n",
              "max           12471.840000  "
            ],
            "text/html": [
              "\n",
              "  <div id=\"df-7a5a9795-5c47-4047-abc1-4f17139b9701\">\n",
              "    <div class=\"colab-df-container\">\n",
              "      <div>\n",
              "<style scoped>\n",
              "    .dataframe tbody tr th:only-of-type {\n",
              "        vertical-align: middle;\n",
              "    }\n",
              "\n",
              "    .dataframe tbody tr th {\n",
              "        vertical-align: top;\n",
              "    }\n",
              "\n",
              "    .dataframe thead th {\n",
              "        text-align: right;\n",
              "    }\n",
              "</style>\n",
              "<table border=\"1\" class=\"dataframe\">\n",
              "  <thead>\n",
              "    <tr style=\"text-align: right;\">\n",
              "      <th></th>\n",
              "      <th>Department Name</th>\n",
              "      <th>Gender</th>\n",
              "      <th>Base Salary</th>\n",
              "      <th>2020 Overtime Pay</th>\n",
              "      <th>2020 Longevity Pay</th>\n",
              "    </tr>\n",
              "  </thead>\n",
              "  <tbody>\n",
              "    <tr>\n",
              "      <th>count</th>\n",
              "      <td>9958</td>\n",
              "      <td>9958</td>\n",
              "      <td>9958.000000</td>\n",
              "      <td>9958.000000</td>\n",
              "      <td>9958.000000</td>\n",
              "    </tr>\n",
              "    <tr>\n",
              "      <th>unique</th>\n",
              "      <td>40</td>\n",
              "      <td>2</td>\n",
              "      <td>NaN</td>\n",
              "      <td>NaN</td>\n",
              "      <td>NaN</td>\n",
              "    </tr>\n",
              "    <tr>\n",
              "      <th>top</th>\n",
              "      <td>Department of Police</td>\n",
              "      <td>M</td>\n",
              "      <td>NaN</td>\n",
              "      <td>NaN</td>\n",
              "      <td>NaN</td>\n",
              "    </tr>\n",
              "    <tr>\n",
              "      <th>freq</th>\n",
              "      <td>1940</td>\n",
              "      <td>5867</td>\n",
              "      <td>NaN</td>\n",
              "      <td>NaN</td>\n",
              "      <td>NaN</td>\n",
              "    </tr>\n",
              "    <tr>\n",
              "      <th>mean</th>\n",
              "      <td>NaN</td>\n",
              "      <td>NaN</td>\n",
              "      <td>78771.464060</td>\n",
              "      <td>5182.163123</td>\n",
              "      <td>923.572259</td>\n",
              "    </tr>\n",
              "    <tr>\n",
              "      <th>std</th>\n",
              "      <td>NaN</td>\n",
              "      <td>NaN</td>\n",
              "      <td>30153.168916</td>\n",
              "      <td>11062.665975</td>\n",
              "      <td>2043.593190</td>\n",
              "    </tr>\n",
              "    <tr>\n",
              "      <th>min</th>\n",
              "      <td>NaN</td>\n",
              "      <td>NaN</td>\n",
              "      <td>11147.240000</td>\n",
              "      <td>0.000000</td>\n",
              "      <td>0.000000</td>\n",
              "    </tr>\n",
              "    <tr>\n",
              "      <th>25%</th>\n",
              "      <td>NaN</td>\n",
              "      <td>NaN</td>\n",
              "      <td>56994.082500</td>\n",
              "      <td>0.000000</td>\n",
              "      <td>0.000000</td>\n",
              "    </tr>\n",
              "    <tr>\n",
              "      <th>50%</th>\n",
              "      <td>NaN</td>\n",
              "      <td>NaN</td>\n",
              "      <td>75290.000000</td>\n",
              "      <td>414.995000</td>\n",
              "      <td>0.000000</td>\n",
              "    </tr>\n",
              "    <tr>\n",
              "      <th>75%</th>\n",
              "      <td>NaN</td>\n",
              "      <td>NaN</td>\n",
              "      <td>94668.000000</td>\n",
              "      <td>5394.387500</td>\n",
              "      <td>0.000000</td>\n",
              "    </tr>\n",
              "    <tr>\n",
              "      <th>max</th>\n",
              "      <td>NaN</td>\n",
              "      <td>NaN</td>\n",
              "      <td>280000.000000</td>\n",
              "      <td>141998.220000</td>\n",
              "      <td>12471.840000</td>\n",
              "    </tr>\n",
              "  </tbody>\n",
              "</table>\n",
              "</div>\n",
              "      <button class=\"colab-df-convert\" onclick=\"convertToInteractive('df-7a5a9795-5c47-4047-abc1-4f17139b9701')\"\n",
              "              title=\"Convert this dataframe to an interactive table.\"\n",
              "              style=\"display:none;\">\n",
              "        \n",
              "  <svg xmlns=\"http://www.w3.org/2000/svg\" height=\"24px\"viewBox=\"0 0 24 24\"\n",
              "       width=\"24px\">\n",
              "    <path d=\"M0 0h24v24H0V0z\" fill=\"none\"/>\n",
              "    <path d=\"M18.56 5.44l.94 2.06.94-2.06 2.06-.94-2.06-.94-.94-2.06-.94 2.06-2.06.94zm-11 1L8.5 8.5l.94-2.06 2.06-.94-2.06-.94L8.5 2.5l-.94 2.06-2.06.94zm10 10l.94 2.06.94-2.06 2.06-.94-2.06-.94-.94-2.06-.94 2.06-2.06.94z\"/><path d=\"M17.41 7.96l-1.37-1.37c-.4-.4-.92-.59-1.43-.59-.52 0-1.04.2-1.43.59L10.3 9.45l-7.72 7.72c-.78.78-.78 2.05 0 2.83L4 21.41c.39.39.9.59 1.41.59.51 0 1.02-.2 1.41-.59l7.78-7.78 2.81-2.81c.8-.78.8-2.07 0-2.86zM5.41 20L4 18.59l7.72-7.72 1.47 1.35L5.41 20z\"/>\n",
              "  </svg>\n",
              "      </button>\n",
              "      \n",
              "  <style>\n",
              "    .colab-df-container {\n",
              "      display:flex;\n",
              "      flex-wrap:wrap;\n",
              "      gap: 12px;\n",
              "    }\n",
              "\n",
              "    .colab-df-convert {\n",
              "      background-color: #E8F0FE;\n",
              "      border: none;\n",
              "      border-radius: 50%;\n",
              "      cursor: pointer;\n",
              "      display: none;\n",
              "      fill: #1967D2;\n",
              "      height: 32px;\n",
              "      padding: 0 0 0 0;\n",
              "      width: 32px;\n",
              "    }\n",
              "\n",
              "    .colab-df-convert:hover {\n",
              "      background-color: #E2EBFA;\n",
              "      box-shadow: 0px 1px 2px rgba(60, 64, 67, 0.3), 0px 1px 3px 1px rgba(60, 64, 67, 0.15);\n",
              "      fill: #174EA6;\n",
              "    }\n",
              "\n",
              "    [theme=dark] .colab-df-convert {\n",
              "      background-color: #3B4455;\n",
              "      fill: #D2E3FC;\n",
              "    }\n",
              "\n",
              "    [theme=dark] .colab-df-convert:hover {\n",
              "      background-color: #434B5C;\n",
              "      box-shadow: 0px 1px 3px 1px rgba(0, 0, 0, 0.15);\n",
              "      filter: drop-shadow(0px 1px 2px rgba(0, 0, 0, 0.3));\n",
              "      fill: #FFFFFF;\n",
              "    }\n",
              "  </style>\n",
              "\n",
              "      <script>\n",
              "        const buttonEl =\n",
              "          document.querySelector('#df-7a5a9795-5c47-4047-abc1-4f17139b9701 button.colab-df-convert');\n",
              "        buttonEl.style.display =\n",
              "          google.colab.kernel.accessAllowed ? 'block' : 'none';\n",
              "\n",
              "        async function convertToInteractive(key) {\n",
              "          const element = document.querySelector('#df-7a5a9795-5c47-4047-abc1-4f17139b9701');\n",
              "          const dataTable =\n",
              "            await google.colab.kernel.invokeFunction('convertToInteractive',\n",
              "                                                     [key], {});\n",
              "          if (!dataTable) return;\n",
              "\n",
              "          const docLinkHtml = 'Like what you see? Visit the ' +\n",
              "            '<a target=\"_blank\" href=https://colab.research.google.com/notebooks/data_table.ipynb>data table notebook</a>'\n",
              "            + ' to learn more about interactive tables.';\n",
              "          element.innerHTML = '';\n",
              "          dataTable['output_type'] = 'display_data';\n",
              "          await google.colab.output.renderOutput(dataTable, element);\n",
              "          const docLink = document.createElement('div');\n",
              "          docLink.innerHTML = docLinkHtml;\n",
              "          element.appendChild(docLink);\n",
              "        }\n",
              "      </script>\n",
              "    </div>\n",
              "  </div>\n",
              "  "
            ]
          },
          "metadata": {},
          "execution_count": 5
        }
      ]
    },
    {
      "cell_type": "code",
      "source": [
        "# Data Type\n",
        "df.info()"
      ],
      "metadata": {
        "colab": {
          "base_uri": "https://localhost:8080/"
        },
        "id": "r0znoboXoi_K",
        "outputId": "1e1f0b38-f305-4396-d176-6ee83681a284"
      },
      "execution_count": null,
      "outputs": [
        {
          "output_type": "stream",
          "name": "stdout",
          "text": [
            "<class 'pandas.core.frame.DataFrame'>\n",
            "RangeIndex: 9958 entries, 0 to 9957\n",
            "Data columns (total 5 columns):\n",
            " #   Column              Non-Null Count  Dtype  \n",
            "---  ------              --------------  -----  \n",
            " 0   Department Name     9958 non-null   object \n",
            " 1   Gender              9958 non-null   object \n",
            " 2   Base Salary         9958 non-null   float64\n",
            " 3   2020 Overtime Pay   9958 non-null   float64\n",
            " 4   2020 Longevity Pay  9958 non-null   float64\n",
            "dtypes: float64(3), object(2)\n",
            "memory usage: 389.1+ KB\n"
          ]
        }
      ]
    },
    {
      "cell_type": "code",
      "source": [
        "# Data shape. The number of items and columns.\n",
        "df.shape"
      ],
      "metadata": {
        "colab": {
          "base_uri": "https://localhost:8080/"
        },
        "id": "Dv51NHS09wUx",
        "outputId": "62b54600-774c-4e75-fa95-0a7fea5f2266"
      },
      "execution_count": null,
      "outputs": [
        {
          "output_type": "execute_result",
          "data": {
            "text/plain": [
              "(9958, 5)"
            ]
          },
          "metadata": {},
          "execution_count": 7
        }
      ]
    },
    {
      "cell_type": "markdown",
      "source": [
        "Which department has more employees?"
      ],
      "metadata": {
        "id": "qFVVZnVWx7G8"
      }
    },
    {
      "cell_type": "code",
      "source": [
        "# Number of Employees per Department\n",
        "df['Department Name'].value_counts()"
      ],
      "metadata": {
        "colab": {
          "base_uri": "https://localhost:8080/"
        },
        "id": "_slLjHKt-Tza",
        "outputId": "ec8cee6c-473a-4de1-9494-4d0fa3c7c4d0"
      },
      "execution_count": null,
      "outputs": [
        {
          "output_type": "execute_result",
          "data": {
            "text/plain": [
              "Department of Police                                    1940\n",
              "Department of Health and Human Services                 1734\n",
              "Fire and Rescue Services                                1358\n",
              "Department of Transportation                            1323\n",
              "Correction and Rehabilitation                            525\n",
              "Alcohol Beverage Services                                438\n",
              "Department of General Services                           416\n",
              "Department of Public Libraries                           389\n",
              "Department of Permitting Services                        227\n",
              "Sheriff's Office                                         210\n",
              "Department of Environmental Protection                   161\n",
              "Department of Recreation                                 148\n",
              "Department of Technology Services                        147\n",
              "Department of Finance                                    119\n",
              "County Council                                            99\n",
              "Department of Housing and Community Affairs               91\n",
              "Community Engagement Cluster                              83\n",
              "County Attorney's Office                                  74\n",
              "Office of Animal Services                                 72\n",
              "Office of Public Information                              69\n",
              "Office of Human Resources                                 58\n",
              "Offices of the County Executive                           37\n",
              "Office of Management and Budget                           35\n",
              "Office of Procurement                                     29\n",
              "Board of Elections                                        29\n",
              "Community Use of Public Facilities                        26\n",
              "Non-Departmental Account                                  20\n",
              "Office of Legislative Oversight                           15\n",
              "Office of Emergency Management and Homeland Security      15\n",
              "Office of Consumer Protection                             14\n",
              "Office of the Inspector General                           11\n",
              "Office of Agriculture                                     10\n",
              "Office of Human Rights                                     9\n",
              "Office of Labor Relations                                  7\n",
              "Office of Zoning and Administrative Hearings               5\n",
              "Office of Intergovernmental Relations Department           5\n",
              "Office of Racial Equity and Social Justice                 3\n",
              "Board of Appeals Department                                3\n",
              "Merit System Protection Board Department                   2\n",
              "Ethics Commission                                          2\n",
              "Name: Department Name, dtype: int64"
            ]
          },
          "metadata": {},
          "execution_count": 8
        }
      ]
    },
    {
      "cell_type": "markdown",
      "source": [
        "Statistics by Gender"
      ],
      "metadata": {
        "id": "2tRL3FdNlyVI"
      }
    },
    {
      "cell_type": "code",
      "source": [
        "#Labor Force by Gender\n",
        "df.Gender.value_counts()"
      ],
      "metadata": {
        "colab": {
          "base_uri": "https://localhost:8080/"
        },
        "id": "FK4Tbfe_lGE3",
        "outputId": "48b03ba6-0800-4674-a709-30f461a243df"
      },
      "execution_count": null,
      "outputs": [
        {
          "output_type": "execute_result",
          "data": {
            "text/plain": [
              "M    5867\n",
              "F    4091\n",
              "Name: Gender, dtype: int64"
            ]
          },
          "metadata": {},
          "execution_count": 9
        }
      ]
    },
    {
      "cell_type": "code",
      "source": [
        "# Labor Force by Department/Gender\n",
        "\n",
        "df.groupby(['Department Name','Gender']).aggregate('Department Name').count()"
      ],
      "metadata": {
        "colab": {
          "base_uri": "https://localhost:8080/"
        },
        "id": "a7bP_Tw8pGsL",
        "outputId": "693c7f3b-a745-4dda-807e-5ab6c46eebe0"
      },
      "execution_count": null,
      "outputs": [
        {
          "output_type": "execute_result",
          "data": {
            "text/plain": [
              "Department Name                  Gender\n",
              "Alcohol Beverage Services        F          90\n",
              "                                 M         348\n",
              "Board of Appeals Department      F           3\n",
              "Board of Elections               F          22\n",
              "                                 M           7\n",
              "                                          ... \n",
              "Office of the Inspector General  M           4\n",
              "Offices of the County Executive  F          24\n",
              "                                 M          13\n",
              "Sheriff's Office                 F          57\n",
              "                                 M         153\n",
              "Name: Department Name, Length: 77, dtype: int64"
            ]
          },
          "metadata": {},
          "execution_count": 11
        }
      ]
    },
    {
      "cell_type": "code",
      "source": [
        "# Average Salary By Gender\n",
        "df.groupby('Gender').mean()"
      ],
      "metadata": {
        "colab": {
          "base_uri": "https://localhost:8080/",
          "height": 143
        },
        "id": "3nqheJtFmjTt",
        "outputId": "b9e4703f-d911-4841-fc40-d5606d5b27cc"
      },
      "execution_count": null,
      "outputs": [
        {
          "output_type": "execute_result",
          "data": {
            "text/plain": [
              "         Base Salary  2020 Overtime Pay  2020 Longevity Pay\n",
              "Gender                                                     \n",
              "F       76763.832068        2224.741322          738.709998\n",
              "M       80171.365625        7244.343554         1052.474853"
            ],
            "text/html": [
              "\n",
              "  <div id=\"df-53f703dc-d4b7-4c27-85cd-ccd54a577bb8\">\n",
              "    <div class=\"colab-df-container\">\n",
              "      <div>\n",
              "<style scoped>\n",
              "    .dataframe tbody tr th:only-of-type {\n",
              "        vertical-align: middle;\n",
              "    }\n",
              "\n",
              "    .dataframe tbody tr th {\n",
              "        vertical-align: top;\n",
              "    }\n",
              "\n",
              "    .dataframe thead th {\n",
              "        text-align: right;\n",
              "    }\n",
              "</style>\n",
              "<table border=\"1\" class=\"dataframe\">\n",
              "  <thead>\n",
              "    <tr style=\"text-align: right;\">\n",
              "      <th></th>\n",
              "      <th>Base Salary</th>\n",
              "      <th>2020 Overtime Pay</th>\n",
              "      <th>2020 Longevity Pay</th>\n",
              "    </tr>\n",
              "    <tr>\n",
              "      <th>Gender</th>\n",
              "      <th></th>\n",
              "      <th></th>\n",
              "      <th></th>\n",
              "    </tr>\n",
              "  </thead>\n",
              "  <tbody>\n",
              "    <tr>\n",
              "      <th>F</th>\n",
              "      <td>76763.832068</td>\n",
              "      <td>2224.741322</td>\n",
              "      <td>738.709998</td>\n",
              "    </tr>\n",
              "    <tr>\n",
              "      <th>M</th>\n",
              "      <td>80171.365625</td>\n",
              "      <td>7244.343554</td>\n",
              "      <td>1052.474853</td>\n",
              "    </tr>\n",
              "  </tbody>\n",
              "</table>\n",
              "</div>\n",
              "      <button class=\"colab-df-convert\" onclick=\"convertToInteractive('df-53f703dc-d4b7-4c27-85cd-ccd54a577bb8')\"\n",
              "              title=\"Convert this dataframe to an interactive table.\"\n",
              "              style=\"display:none;\">\n",
              "        \n",
              "  <svg xmlns=\"http://www.w3.org/2000/svg\" height=\"24px\"viewBox=\"0 0 24 24\"\n",
              "       width=\"24px\">\n",
              "    <path d=\"M0 0h24v24H0V0z\" fill=\"none\"/>\n",
              "    <path d=\"M18.56 5.44l.94 2.06.94-2.06 2.06-.94-2.06-.94-.94-2.06-.94 2.06-2.06.94zm-11 1L8.5 8.5l.94-2.06 2.06-.94-2.06-.94L8.5 2.5l-.94 2.06-2.06.94zm10 10l.94 2.06.94-2.06 2.06-.94-2.06-.94-.94-2.06-.94 2.06-2.06.94z\"/><path d=\"M17.41 7.96l-1.37-1.37c-.4-.4-.92-.59-1.43-.59-.52 0-1.04.2-1.43.59L10.3 9.45l-7.72 7.72c-.78.78-.78 2.05 0 2.83L4 21.41c.39.39.9.59 1.41.59.51 0 1.02-.2 1.41-.59l7.78-7.78 2.81-2.81c.8-.78.8-2.07 0-2.86zM5.41 20L4 18.59l7.72-7.72 1.47 1.35L5.41 20z\"/>\n",
              "  </svg>\n",
              "      </button>\n",
              "      \n",
              "  <style>\n",
              "    .colab-df-container {\n",
              "      display:flex;\n",
              "      flex-wrap:wrap;\n",
              "      gap: 12px;\n",
              "    }\n",
              "\n",
              "    .colab-df-convert {\n",
              "      background-color: #E8F0FE;\n",
              "      border: none;\n",
              "      border-radius: 50%;\n",
              "      cursor: pointer;\n",
              "      display: none;\n",
              "      fill: #1967D2;\n",
              "      height: 32px;\n",
              "      padding: 0 0 0 0;\n",
              "      width: 32px;\n",
              "    }\n",
              "\n",
              "    .colab-df-convert:hover {\n",
              "      background-color: #E2EBFA;\n",
              "      box-shadow: 0px 1px 2px rgba(60, 64, 67, 0.3), 0px 1px 3px 1px rgba(60, 64, 67, 0.15);\n",
              "      fill: #174EA6;\n",
              "    }\n",
              "\n",
              "    [theme=dark] .colab-df-convert {\n",
              "      background-color: #3B4455;\n",
              "      fill: #D2E3FC;\n",
              "    }\n",
              "\n",
              "    [theme=dark] .colab-df-convert:hover {\n",
              "      background-color: #434B5C;\n",
              "      box-shadow: 0px 1px 3px 1px rgba(0, 0, 0, 0.15);\n",
              "      filter: drop-shadow(0px 1px 2px rgba(0, 0, 0, 0.3));\n",
              "      fill: #FFFFFF;\n",
              "    }\n",
              "  </style>\n",
              "\n",
              "      <script>\n",
              "        const buttonEl =\n",
              "          document.querySelector('#df-53f703dc-d4b7-4c27-85cd-ccd54a577bb8 button.colab-df-convert');\n",
              "        buttonEl.style.display =\n",
              "          google.colab.kernel.accessAllowed ? 'block' : 'none';\n",
              "\n",
              "        async function convertToInteractive(key) {\n",
              "          const element = document.querySelector('#df-53f703dc-d4b7-4c27-85cd-ccd54a577bb8');\n",
              "          const dataTable =\n",
              "            await google.colab.kernel.invokeFunction('convertToInteractive',\n",
              "                                                     [key], {});\n",
              "          if (!dataTable) return;\n",
              "\n",
              "          const docLinkHtml = 'Like what you see? Visit the ' +\n",
              "            '<a target=\"_blank\" href=https://colab.research.google.com/notebooks/data_table.ipynb>data table notebook</a>'\n",
              "            + ' to learn more about interactive tables.';\n",
              "          element.innerHTML = '';\n",
              "          dataTable['output_type'] = 'display_data';\n",
              "          await google.colab.output.renderOutput(dataTable, element);\n",
              "          const docLink = document.createElement('div');\n",
              "          docLink.innerHTML = docLinkHtml;\n",
              "          element.appendChild(docLink);\n",
              "        }\n",
              "      </script>\n",
              "    </div>\n",
              "  </div>\n",
              "  "
            ]
          },
          "metadata": {},
          "execution_count": 12
        }
      ]
    },
    {
      "cell_type": "code",
      "source": [
        "df.groupby('Gender').mean().plot(kind=\"bar\")\n",
        "plt.title(\"Average Salary by Gender\")\n",
        "plt.xlabel(\"Gender\")\n",
        "plt.xticks(rotation=0   )\n",
        "plt.ylabel(\"Salary ($)\")\n",
        "plt.legend(loc='center left', bbox_to_anchor=(1, 0.5))\n",
        "plt.show()"
      ],
      "metadata": {
        "colab": {
          "base_uri": "https://localhost:8080/",
          "height": 295
        },
        "id": "GjRc2ylKnNNW",
        "outputId": "6d17414d-a11e-4d1f-e503-074c8e8dd382"
      },
      "execution_count": null,
      "outputs": [
        {
          "output_type": "display_data",
          "data": {
            "text/plain": [
              "<Figure size 432x288 with 1 Axes>"
            ],
            "image/png": "[encoded data removed]"
          },
          "metadata": {
            "needs_background": "light"
          }
        }
      ]
    },
    {
      "cell_type": "markdown",
      "source": [
        "Average Salary per department"
      ],
      "metadata": {
        "id": "E4Sh4arw9W97"
      }
    },
    {
      "cell_type": "code",
      "source": [
        "round(df.groupby('Department Name').mean(), 2)"
      ],
      "metadata": {
        "colab": {
          "base_uri": "https://localhost:8080/",
          "height": 1000
        },
        "id": "zYnanaKVqwl2",
        "outputId": "c87ff85c-fe5d-487d-af27-e3dfc88669b9"
      },
      "execution_count": null,
      "outputs": [
        {
          "output_type": "execute_result",
          "data": {
            "text/plain": [
              "                                                    Base Salary  \\\n",
              "Department Name                                                   \n",
              "Alcohol Beverage Services                              56071.32   \n",
              "Board of Appeals Department                            94044.97   \n",
              "Board of Elections                                     81829.79   \n",
              "Community Engagement Cluster                           69481.67   \n",
              "Community Use of Public Facilities                     88778.09   \n",
              "Correction and Rehabilitation                          77745.89   \n",
              "County Attorney's Office                              115512.61   \n",
              "County Council                                         95375.49   \n",
              "Department of Environmental Protection                 96362.37   \n",
              "Department of Finance                                 102499.57   \n",
              "Department of General Services                         84442.06   \n",
              "Department of Health and Human Services                80120.84   \n",
              "Department of Housing and Community Affairs            93133.03   \n",
              "Department of Permitting Services                      97493.59   \n",
              "Department of Police                                   77312.77   \n",
              "Department of Public Libraries                         56980.18   \n",
              "Department of Recreation                               78356.04   \n",
              "Department of Technology Services                     125008.92   \n",
              "Department of Transportation                           64447.77   \n",
              "Ethics Commission                                     131574.49   \n",
              "Fire and Rescue Services                               83123.52   \n",
              "Merit System Protection Board Department               83871.82   \n",
              "Non-Departmental Account                              126963.44   \n",
              "Office of Agriculture                                  80416.99   \n",
              "Office of Animal Services                              63543.70   \n",
              "Office of Consumer Protection                         103531.21   \n",
              "Office of Emergency Management and Homeland Sec...    106143.28   \n",
              "Office of Human Resources                             105524.75   \n",
              "Office of Human Rights                                105136.06   \n",
              "Office of Intergovernmental Relations Department      148087.57   \n",
              "Office of Labor Relations                             115764.95   \n",
              "Office of Legislative Oversight                       116642.49   \n",
              "Office of Management and Budget                       118137.13   \n",
              "Office of Procurement                                  97681.35   \n",
              "Office of Public Information                           77382.13   \n",
              "Office of Racial Equity and Social Justice            112282.67   \n",
              "Office of Zoning and Administrative Hearings          131329.41   \n",
              "Office of the Inspector General                       115406.88   \n",
              "Offices of the County Executive                       120121.39   \n",
              "Sheriff's Office                                       80432.32   \n",
              "\n",
              "                                                    2020 Overtime Pay  \\\n",
              "Department Name                                                         \n",
              "Alcohol Beverage Services                                     1804.96   \n",
              "Board of Appeals Department                                      0.00   \n",
              "Board of Elections                                           19141.67   \n",
              "Community Engagement Cluster                                  2495.99   \n",
              "Community Use of Public Facilities                             267.18   \n",
              "Correction and Rehabilitation                                15978.59   \n",
              "County Attorney's Office                                        90.87   \n",
              "County Council                                                  66.65   \n",
              "Department of Environmental Protection                        3034.45   \n",
              "Department of Finance                                          364.10   \n",
              "Department of General Services                                3638.37   \n",
              "Department of Health and Human Services                        654.84   \n",
              "Department of Housing and Community Affairs                    104.62   \n",
              "Department of Permitting Services                              687.58   \n",
              "Department of Police                                          4398.26   \n",
              "Department of Public Libraries                                  13.26   \n",
              "Department of Recreation                                      1247.15   \n",
              "Department of Technology Services                             1754.06   \n",
              "Department of Transportation                                  5625.68   \n",
              "Ethics Commission                                                0.00   \n",
              "Fire and Rescue Services                                     15721.85   \n",
              "Merit System Protection Board Department                        20.32   \n",
              "Non-Departmental Account                                        16.20   \n",
              "Office of Agriculture                                            0.00   \n",
              "Office of Animal Services                                     1111.98   \n",
              "Office of Consumer Protection                                    0.00   \n",
              "Office of Emergency Management and Homeland Sec...             302.84   \n",
              "Office of Human Resources                                       18.68   \n",
              "Office of Human Rights                                         326.73   \n",
              "Office of Intergovernmental Relations Department                 0.00   \n",
              "Office of Labor Relations                                        0.00   \n",
              "Office of Legislative Oversight                                  0.00   \n",
              "Office of Management and Budget                                  0.00   \n",
              "Office of Procurement                                          170.72   \n",
              "Office of Public Information                                   890.12   \n",
              "Office of Racial Equity and Social Justice                       0.00   \n",
              "Office of Zoning and Administrative Hearings                     0.00   \n",
              "Office of the Inspector General                                  0.00   \n",
              "Offices of the County Executive                                  0.00   \n",
              "Sheriff's Office                                              1747.44   \n",
              "\n",
              "                                                    2020 Longevity Pay  \n",
              "Department Name                                                         \n",
              "Alcohol Beverage Services                                       283.62  \n",
              "Board of Appeals Department                                       0.00  \n",
              "Board of Elections                                              443.85  \n",
              "Community Engagement Cluster                                     68.91  \n",
              "Community Use of Public Facilities                              379.02  \n",
              "Correction and Rehabilitation                                   574.55  \n",
              "County Attorney's Office                                        341.60  \n",
              "County Council                                                   76.85  \n",
              "Department of Environmental Protection                          990.76  \n",
              "Department of Finance                                           325.92  \n",
              "Department of General Services                                  720.59  \n",
              "Department of Health and Human Services                         775.68  \n",
              "Department of Housing and Community Affairs                     913.27  \n",
              "Department of Permitting Services                               971.41  \n",
              "Department of Police                                           1720.95  \n",
              "Department of Public Libraries                                  861.45  \n",
              "Department of Recreation                                        565.78  \n",
              "Department of Technology Services                               604.09  \n",
              "Department of Transportation                                    514.14  \n",
              "Ethics Commission                                                 0.00  \n",
              "Fire and Rescue Services                                       1277.95  \n",
              "Merit System Protection Board Department                          0.00  \n",
              "Non-Departmental Account                                          0.00  \n",
              "Office of Agriculture                                           107.60  \n",
              "Office of Animal Services                                        63.12  \n",
              "Office of Consumer Protection                                  1732.01  \n",
              "Office of Emergency Management and Homeland Sec...              484.85  \n",
              "Office of Human Resources                                        55.01  \n",
              "Office of Human Rights                                         1845.16  \n",
              "Office of Intergovernmental Relations Department                  0.00  \n",
              "Office of Labor Relations                                         0.00  \n",
              "Office of Legislative Oversight                                   0.00  \n",
              "Office of Management and Budget                                   0.00  \n",
              "Office of Procurement                                           990.67  \n",
              "Office of Public Information                                     79.33  \n",
              "Office of Racial Equity and Social Justice                        0.00  \n",
              "Office of Zoning and Administrative Hearings                      0.00  \n",
              "Office of the Inspector General                                   0.00  \n",
              "Offices of the County Executive                                  64.89  \n",
              "Sheriff's Office                                                988.22  "
            ],
            "text/html": [
              "\n",
              "  <div id=\"df-285064a9-071e-4f41-a746-f40cb7de5e60\">\n",
              "    <div class=\"colab-df-container\">\n",
              "      <div>\n",
              "<style scoped>\n",
              "    .dataframe tbody tr th:only-of-type {\n",
              "        vertical-align: middle;\n",
              "    }\n",
              "\n",
              "    .dataframe tbody tr th {\n",
              "        vertical-align: top;\n",
              "    }\n",
              "\n",
              "    .dataframe thead th {\n",
              "        text-align: right;\n",
              "    }\n",
              "</style>\n",
              "<table border=\"1\" class=\"dataframe\">\n",
              "  <thead>\n",
              "    <tr style=\"text-align: right;\">\n",
              "      <th></th>\n",
              "      <th>Base Salary</th>\n",
              "      <th>2020 Overtime Pay</th>\n",
              "      <th>2020 Longevity Pay</th>\n",
              "    </tr>\n",
              "    <tr>\n",
              "      <th>Department Name</th>\n",
              "      <th></th>\n",
              "      <th></th>\n",
              "      <th></th>\n",
              "    </tr>\n",
              "  </thead>\n",
              "  <tbody>\n",
              "    <tr>\n",
              "      <th>Alcohol Beverage Services</th>\n",
              "      <td>56071.32</td>\n",
              "      <td>1804.96</td>\n",
              "      <td>283.62</td>\n",
              "    </tr>\n",
              "    <tr>\n",
              "      <th>Board of Appeals Department</th>\n",
              "      <td>94044.97</td>\n",
              "      <td>0.00</td>\n",
              "      <td>0.00</td>\n",
              "    </tr>\n",
              "    <tr>\n",
              "      <th>Board of Elections</th>\n",
              "      <td>81829.79</td>\n",
              "      <td>19141.67</td>\n",
              "      <td>443.85</td>\n",
              "    </tr>\n",
              "    <tr>\n",
              "      <th>Community Engagement Cluster</th>\n",
              "      <td>69481.67</td>\n",
              "      <td>2495.99</td>\n",
              "      <td>68.91</td>\n",
              "    </tr>\n",
              "    <tr>\n",
              "      <th>Community Use of Public Facilities</th>\n",
              "      <td>88778.09</td>\n",
              "      <td>267.18</td>\n",
              "      <td>379.02</td>\n",
              "    </tr>\n",
              "    <tr>\n",
              "      <th>Correction and Rehabilitation</th>\n",
              "      <td>77745.89</td>\n",
              "      <td>15978.59</td>\n",
              "      <td>574.55</td>\n",
              "    </tr>\n",
              "    <tr>\n",
              "      <th>County Attorney's Office</th>\n",
              "      <td>115512.61</td>\n",
              "      <td>90.87</td>\n",
              "      <td>341.60</td>\n",
              "    </tr>\n",
              "    <tr>\n",
              "      <th>County Council</th>\n",
              "      <td>95375.49</td>\n",
              "      <td>66.65</td>\n",
              "      <td>76.85</td>\n",
              "    </tr>\n",
              "    <tr>\n",
              "      <th>Department of Environmental Protection</th>\n",
              "      <td>96362.37</td>\n",
              "      <td>3034.45</td>\n",
              "      <td>990.76</td>\n",
              "    </tr>\n",
              "    <tr>\n",
              "      <th>Department of Finance</th>\n",
              "      <td>102499.57</td>\n",
              "      <td>364.10</td>\n",
              "      <td>325.92</td>\n",
              "    </tr>\n",
              "    <tr>\n",
              "      <th>Department of General Services</th>\n",
              "      <td>84442.06</td>\n",
              "      <td>3638.37</td>\n",
              "      <td>720.59</td>\n",
              "    </tr>\n",
              "    <tr>\n",
              "      <th>Department of Health and Human Services</th>\n",
              "      <td>80120.84</td>\n",
              "      <td>654.84</td>\n",
              "      <td>775.68</td>\n",
              "    </tr>\n",
              "    <tr>\n",
              "      <th>Department of Housing and Community Affairs</th>\n",
              "      <td>93133.03</td>\n",
              "      <td>104.62</td>\n",
              "      <td>913.27</td>\n",
              "    </tr>\n",
              "    <tr>\n",
              "      <th>Department of Permitting Services</th>\n",
              "      <td>97493.59</td>\n",
              "      <td>687.58</td>\n",
              "      <td>971.41</td>\n",
              "    </tr>\n",
              "    <tr>\n",
              "      <th>Department of Police</th>\n",
              "      <td>77312.77</td>\n",
              "      <td>4398.26</td>\n",
              "      <td>1720.95</td>\n",
              "    </tr>\n",
              "    <tr>\n",
              "      <th>Department of Public Libraries</th>\n",
              "      <td>56980.18</td>\n",
              "      <td>13.26</td>\n",
              "      <td>861.45</td>\n",
              "    </tr>\n",
              "    <tr>\n",
              "      <th>Department of Recreation</th>\n",
              "      <td>78356.04</td>\n",
              "      <td>1247.15</td>\n",
              "      <td>565.78</td>\n",
              "    </tr>\n",
              "    <tr>\n",
              "      <th>Department of Technology Services</th>\n",
              "      <td>125008.92</td>\n",
              "      <td>1754.06</td>\n",
              "      <td>604.09</td>\n",
              "    </tr>\n",
              "    <tr>\n",
              "      <th>Department of Transportation</th>\n",
              "      <td>64447.77</td>\n",
              "      <td>5625.68</td>\n",
              "      <td>514.14</td>\n",
              "    </tr>\n",
              "    <tr>\n",
              "      <th>Ethics Commission</th>\n",
              "      <td>131574.49</td>\n",
              "      <td>0.00</td>\n",
              "      <td>0.00</td>\n",
              "    </tr>\n",
              "    <tr>\n",
              "      <th>Fire and Rescue Services</th>\n",
              "      <td>83123.52</td>\n",
              "      <td>15721.85</td>\n",
              "      <td>1277.95</td>\n",
              "    </tr>\n",
              "    <tr>\n",
              "      <th>Merit System Protection Board Department</th>\n",
              "      <td>83871.82</td>\n",
              "      <td>20.32</td>\n",
              "      <td>0.00</td>\n",
              "    </tr>\n",
              "    <tr>\n",
              "      <th>Non-Departmental Account</th>\n",
              "      <td>126963.44</td>\n",
              "      <td>16.20</td>\n",
              "      <td>0.00</td>\n",
              "    </tr>\n",
              "    <tr>\n",
              "      <th>Office of Agriculture</th>\n",
              "      <td>80416.99</td>\n",
              "      <td>0.00</td>\n",
              "      <td>107.60</td>\n",
              "    </tr>\n",
              "    <tr>\n",
              "      <th>Office of Animal Services</th>\n",
              "      <td>63543.70</td>\n",
              "      <td>1111.98</td>\n",
              "      <td>63.12</td>\n",
              "    </tr>\n",
              "    <tr>\n",
              "      <th>Office of Consumer Protection</th>\n",
              "      <td>103531.21</td>\n",
              "      <td>0.00</td>\n",
              "      <td>1732.01</td>\n",
              "    </tr>\n",
              "    <tr>\n",
              "      <th>Office of Emergency Management and Homeland Security</th>\n",
              "      <td>106143.28</td>\n",
              "      <td>302.84</td>\n",
              "      <td>484.85</td>\n",
              "    </tr>\n",
              "    <tr>\n",
              "      <th>Office of Human Resources</th>\n",
              "      <td>105524.75</td>\n",
              "      <td>18.68</td>\n",
              "      <td>55.01</td>\n",
              "    </tr>\n",
              "    <tr>\n",
              "      <th>Office of Human Rights</th>\n",
              "      <td>105136.06</td>\n",
              "      <td>326.73</td>\n",
              "      <td>1845.16</td>\n",
              "    </tr>\n",
              "    <tr>\n",
              "      <th>Office of Intergovernmental Relations Department</th>\n",
              "      <td>148087.57</td>\n",
              "      <td>0.00</td>\n",
              "      <td>0.00</td>\n",
              "    </tr>\n",
              "    <tr>\n",
              "      <th>Office of Labor Relations</th>\n",
              "      <td>115764.95</td>\n",
              "      <td>0.00</td>\n",
              "      <td>0.00</td>\n",
              "    </tr>\n",
              "    <tr>\n",
              "      <th>Office of Legislative Oversight</th>\n",
              "      <td>116642.49</td>\n",
              "      <td>0.00</td>\n",
              "      <td>0.00</td>\n",
              "    </tr>\n",
              "    <tr>\n",
              "      <th>Office of Management and Budget</th>\n",
              "      <td>118137.13</td>\n",
              "      <td>0.00</td>\n",
              "      <td>0.00</td>\n",
              "    </tr>\n",
              "    <tr>\n",
              "      <th>Office of Procurement</th>\n",
              "      <td>97681.35</td>\n",
              "      <td>170.72</td>\n",
              "      <td>990.67</td>\n",
              "    </tr>\n",
              "    <tr>\n",
              "      <th>Office of Public Information</th>\n",
              "      <td>77382.13</td>\n",
              "      <td>890.12</td>\n",
              "      <td>79.33</td>\n",
              "    </tr>\n",
              "    <tr>\n",
              "      <th>Office of Racial Equity and Social Justice</th>\n",
              "      <td>112282.67</td>\n",
              "      <td>0.00</td>\n",
              "      <td>0.00</td>\n",
              "    </tr>\n",
              "    <tr>\n",
              "      <th>Office of Zoning and Administrative Hearings</th>\n",
              "      <td>131329.41</td>\n",
              "      <td>0.00</td>\n",
              "      <td>0.00</td>\n",
              "    </tr>\n",
              "    <tr>\n",
              "      <th>Office of the Inspector General</th>\n",
              "      <td>115406.88</td>\n",
              "      <td>0.00</td>\n",
              "      <td>0.00</td>\n",
              "    </tr>\n",
              "    <tr>\n",
              "      <th>Offices of the County Executive</th>\n",
              "      <td>120121.39</td>\n",
              "      <td>0.00</td>\n",
              "      <td>64.89</td>\n",
              "    </tr>\n",
              "    <tr>\n",
              "      <th>Sheriff's Office</th>\n",
              "      <td>80432.32</td>\n",
              "      <td>1747.44</td>\n",
              "      <td>988.22</td>\n",
              "    </tr>\n",
              "  </tbody>\n",
              "</table>\n",
              "</div>\n",
              "      <button class=\"colab-df-convert\" onclick=\"convertToInteractive('df-285064a9-071e-4f41-a746-f40cb7de5e60')\"\n",
              "              title=\"Convert this dataframe to an interactive table.\"\n",
              "              style=\"display:none;\">\n",
              "        \n",
              "  <svg xmlns=\"http://www.w3.org/2000/svg\" height=\"24px\"viewBox=\"0 0 24 24\"\n",
              "       width=\"24px\">\n",
              "    <path d=\"M0 0h24v24H0V0z\" fill=\"none\"/>\n",
              "    <path d=\"M18.56 5.44l.94 2.06.94-2.06 2.06-.94-2.06-.94-.94-2.06-.94 2.06-2.06.94zm-11 1L8.5 8.5l.94-2.06 2.06-.94-2.06-.94L8.5 2.5l-.94 2.06-2.06.94zm10 10l.94 2.06.94-2.06 2.06-.94-2.06-.94-.94-2.06-.94 2.06-2.06.94z\"/><path d=\"M17.41 7.96l-1.37-1.37c-.4-.4-.92-.59-1.43-.59-.52 0-1.04.2-1.43.59L10.3 9.45l-7.72 7.72c-.78.78-.78 2.05 0 2.83L4 21.41c.39.39.9.59 1.41.59.51 0 1.02-.2 1.41-.59l7.78-7.78 2.81-2.81c.8-.78.8-2.07 0-2.86zM5.41 20L4 18.59l7.72-7.72 1.47 1.35L5.41 20z\"/>\n",
              "  </svg>\n",
              "      </button>\n",
              "      \n",
              "  <style>\n",
              "    .colab-df-container {\n",
              "      display:flex;\n",
              "      flex-wrap:wrap;\n",
              "      gap: 12px;\n",
              "    }\n",
              "\n",
              "    .colab-df-convert {\n",
              "      background-color: #E8F0FE;\n",
              "      border: none;\n",
              "      border-radius: 50%;\n",
              "      cursor: pointer;\n",
              "      display: none;\n",
              "      fill: #1967D2;\n",
              "      height: 32px;\n",
              "      padding: 0 0 0 0;\n",
              "      width: 32px;\n",
              "    }\n",
              "\n",
              "    .colab-df-convert:hover {\n",
              "      background-color: #E2EBFA;\n",
              "      box-shadow: 0px 1px 2px rgba(60, 64, 67, 0.3), 0px 1px 3px 1px rgba(60, 64, 67, 0.15);\n",
              "      fill: #174EA6;\n",
              "    }\n",
              "\n",
              "    [theme=dark] .colab-df-convert {\n",
              "      background-color: #3B4455;\n",
              "      fill: #D2E3FC;\n",
              "    }\n",
              "\n",
              "    [theme=dark] .colab-df-convert:hover {\n",
              "      background-color: #434B5C;\n",
              "      box-shadow: 0px 1px 3px 1px rgba(0, 0, 0, 0.15);\n",
              "      filter: drop-shadow(0px 1px 2px rgba(0, 0, 0, 0.3));\n",
              "      fill: #FFFFFF;\n",
              "    }\n",
              "  </style>\n",
              "\n",
              "      <script>\n",
              "        const buttonEl =\n",
              "          document.querySelector('#df-285064a9-071e-4f41-a746-f40cb7de5e60 button.colab-df-convert');\n",
              "        buttonEl.style.display =\n",
              "          google.colab.kernel.accessAllowed ? 'block' : 'none';\n",
              "\n",
              "        async function convertToInteractive(key) {\n",
              "          const element = document.querySelector('#df-285064a9-071e-4f41-a746-f40cb7de5e60');\n",
              "          const dataTable =\n",
              "            await google.colab.kernel.invokeFunction('convertToInteractive',\n",
              "                                                     [key], {});\n",
              "          if (!dataTable) return;\n",
              "\n",
              "          const docLinkHtml = 'Like what you see? Visit the ' +\n",
              "            '<a target=\"_blank\" href=https://colab.research.google.com/notebooks/data_table.ipynb>data table notebook</a>'\n",
              "            + ' to learn more about interactive tables.';\n",
              "          element.innerHTML = '';\n",
              "          dataTable['output_type'] = 'display_data';\n",
              "          await google.colab.output.renderOutput(dataTable, element);\n",
              "          const docLink = document.createElement('div');\n",
              "          docLink.innerHTML = docLinkHtml;\n",
              "          element.appendChild(docLink);\n",
              "        }\n",
              "      </script>\n",
              "    </div>\n",
              "  </div>\n",
              "  "
            ]
          },
          "metadata": {},
          "execution_count": 15
        }
      ]
    },
    {
      "cell_type": "code",
      "source": [
        "# Histogram of Annual Base Salary\n",
        "plt.hist(round(df['Base Salary'],0), 30, log = False)\n",
        "plt.title(\"Histogram of Annual Base Salary\")\n",
        "plt.xlabel(\"Gross Annual Salary ($)\")\n",
        "plt.xticks(rotation=0)\n",
        "plt.ylabel(\"Frequency\")"
      ],
      "metadata": {
        "colab": {
          "base_uri": "https://localhost:8080/",
          "height": 312
        },
        "id": "blf9d0M02L7L",
        "outputId": "eab9234f-96a0-4504-b6fa-877de7619a41"
      },
      "execution_count": null,
      "outputs": [
        {
          "output_type": "execute_result",
          "data": {
            "text/plain": [
              "Text(0, 0.5, 'Frequency')"
            ]
          },
          "metadata": {},
          "execution_count": 16
        },
        {
          "output_type": "display_data",
          "data": {
            "text/plain": [
              "<Figure size 432x288 with 1 Axes>"
            ],
            "image/png": "[encoded data removed]"
          },
          "metadata": {
            "needs_background": "light"
          }
        }
      ]
    },
    {
      "cell_type": "markdown",
      "source": [
        "Now that we have an idea of the levels of pay we can expect, let's find what departments we should work in to get paid the most by gender."
      ],
      "metadata": {
        "id": "nc3bx06wmNqU"
      }
    },
    {
      "cell_type": "markdown",
      "source": [
        "**Top 5 Departments for Highest Base Salaries for Males**"
      ],
      "metadata": {
        "id": "M6MxwGi7Ukht"
      }
    },
    {
      "cell_type": "code",
      "source": [
        "df.loc[df['Gender'] == 'M'].groupby('Department Name').median().sort_values(by=['Base Salary']).head(5).plot(kind=\"bar\")\n",
        "#Above we sorted out the relevant columns, grouped by department and took the means of salaries. Selected the top 5 means and graphed the barchart.\n",
        "plt.title(\"Top 5 Departments for Highest Base Salaries for Males\")\n",
        "plt.ylabel(\"Salary ($)\")\n",
        "plt.legend(loc='center left', bbox_to_anchor=(1, 0.5))\n",
        "plt.show()"
      ],
      "metadata": {
        "colab": {
          "base_uri": "https://localhost:8080/",
          "height": 448
        },
        "id": "-y9ipwgrgyrR",
        "outputId": "b2311dc4-3a1b-49c0-94fb-d08af96d6de0"
      },
      "execution_count": null,
      "outputs": [
        {
          "output_type": "display_data",
          "data": {
            "text/plain": [
              "<Figure size 432x288 with 1 Axes>"
            ],
            "image/png": "[encoded data removed]"
          },
          "metadata": {
            "needs_background": "light"
          }
        }
      ]
    },
    {
      "cell_type": "markdown",
      "source": [
        "**Top 5 Departments for Highest Base Salaries for Females**"
      ],
      "metadata": {
        "id": "8Vq8TWTLUv1h"
      }
    },
    {
      "cell_type": "code",
      "source": [
        "df.loc[df['Gender'] == 'F'].groupby('Department Name').median().sort_values(by=['Base Salary']).head(5).plot(kind=\"bar\")\n",
        "plt.title(\"Top 5 Departments for Highest Base Salaries for Females\")\n",
        "plt.ylabel(\"Salary ($)\")\n",
        "plt.legend(loc='center left', bbox_to_anchor=(1, 0.5))\n",
        "plt.show()"
      ],
      "metadata": {
        "colab": {
          "base_uri": "https://localhost:8080/",
          "height": 500
        },
        "id": "EGBeNDCnlJck",
        "outputId": "9948f0f0-01f0-469a-9308-e8fa98355f3c"
      },
      "execution_count": null,
      "outputs": [
        {
          "output_type": "display_data",
          "data": {
            "text/plain": [
              "<Figure size 432x288 with 1 Axes>"
            ],
            "image/png": "[encoded data removed]"
          },
          "metadata": {
            "needs_background": "light"
          }
        }
      ]
    },
    {
      "cell_type": "markdown",
      "source": [
        "**Bootstrapping - (Nonparametric Inference)**"
      ],
      "metadata": {
        "id": "z9JiiKgyKCHe"
      }
    },
    {
      "cell_type": "code",
      "source": [
        "# Simulate a nonparametric inference of the Median for \"Base Salary\"\n",
        "print('Dataset Median Base Salary: ${:.2f}'.format(df['Base Salary'].median()))\n",
        "median_samples = []\n",
        "# Sample size should be about 10% of the data with replacement, then take median\n",
        "for i in range(1000):\n",
        "  sample = df['Base Salary'].sample(frac = .10, replace = True)                    \n",
        "  median_samples.append(np.median(sample))\n",
        "        \n",
        "print('Samples Median Base Salary: ${:.2f}'.format(np.mean(median_samples)))"
      ],
      "metadata": {
        "colab": {
          "base_uri": "https://localhost:8080/"
        },
        "id": "4X3D0t5XFN7d",
        "outputId": "6a083ac9-0bce-40b8-eaff-4654fda46bc9"
      },
      "execution_count": null,
      "outputs": [
        {
          "output_type": "stream",
          "name": "stdout",
          "text": [
            "Dataset Median Base Salary: $75290.00\n",
            "Samples Median Base Salary: $75457.24\n"
          ]
        }
      ]
    },
    {
      "cell_type": "code",
      "source": [
        "# Calculate confidence interval\n",
        "conf_int = np.percentile(median_samples, [2.5, 97.5]) # The middle 95% interval\n",
        "print('95% Confidence Interval: ${:.2f} to ${:.2f}'.format(conf_int[0],conf_int[1]))"
      ],
      "metadata": {
        "colab": {
          "base_uri": "https://localhost:8080/"
        },
        "id": "BDxVLIx5jird",
        "outputId": "b1aba2e5-8ce7-45ed-a7bf-4bcf85617fa1"
      },
      "execution_count": null,
      "outputs": [
        {
          "output_type": "stream",
          "name": "stdout",
          "text": [
            "95% Confidence Interval: $72088.43 to $78894.00\n"
          ]
        }
      ]
    },
    {
      "cell_type": "markdown",
      "source": [
        "Display Chart of Confidence Interval "
      ],
      "metadata": {
        "id": "p7Zml0OqH_Xx"
      }
    },
    {
      "cell_type": "code",
      "source": [
        "sns.kdeplot(median_samples)\n",
        "for endpoint in conf_int:\n",
        "    plt.axvline(endpoint, color='red')"
      ],
      "metadata": {
        "colab": {
          "base_uri": "https://localhost:8080/",
          "height": 268
        },
        "id": "BQQjt3F1IFha",
        "outputId": "3d055014-a12d-4945-bf10-d499de61d522"
      },
      "execution_count": null,
      "outputs": [
        {
          "output_type": "display_data",
          "data": {
            "text/plain": [
              "<Figure size 432x288 with 1 Axes>"
            ],
            "image/png": "[encoded data removed]"
          },
          "metadata": {
            "needs_background": "light"
          }
        }
      ]
    },
    {
      "cell_type": "markdown",
      "source": [
        "Based on the graphs above for the Top 5 Paying Departments per gender, we have concluded that the Office for Animal Services is the best paying Department overall, and the Comminuty Engagement Cluster is the best paying Department for women. Additionally, you can see that the decline in salaries for women is much steeper than it is for men, as the lowest paying Department for women is about $8k below the lowest paying Department for men, even though the highest paying departments are around the same starting point. Interestingly, that lowest paying department for women only has 2 people working in it, so there is argument on whether that department should even be included at all. "
      ],
      "metadata": {
        "id": "3XNOKxd9DS5Q"
      }
    }
  ]
}